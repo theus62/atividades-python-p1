{
 "cells": [
  {
   "cell_type": "code",
   "execution_count": 3,
   "id": "1c9bdb81-5af3-47b6-a370-7f8f6e5fbfad",
   "metadata": {},
   "outputs": [],
   "source": [
    "naturais = {0, 1, 2, 3, 4, 5}\n",
    "inteiros = {-3, -2, -1, 0, 1, 2, 3}\n",
    "racionais = {0.5, -2.3, 1.75}\n",
    "reais = {3.14, -1.414, 2.718}"
   ]
  },
  {
   "cell_type": "code",
   "execution_count": 4,
   "id": "8cacf222-10dd-41be-9657-de5204e0992d",
   "metadata": {
    "scrolled": true
   },
   "outputs": [
    {
     "name": "stdout",
     "output_type": "stream",
     "text": [
      "Conjunto de números naturais: {0, 1, 2, 3, 4, 5}\n",
      "Conjunto de números inteiros: {0, 1, 2, 3, -1, -3, -2}\n",
      "Conjunto de números racionais: {0.5, 1.75, -2.3}\n",
      "Conjunto de números reais: {2.718, 3.14, -1.414}\n"
     ]
    }
   ],
   "source": [
    "print(\"Conjunto de números naturais:\", naturais)\n",
    "print(\"Conjunto de números inteiros:\", inteiros)\n",
    "print(\"Conjunto de números racionais:\", racionais)\n",
    "print(\"Conjunto de números reais:\", reais)"
   ]
  },
  {
   "cell_type": "code",
   "execution_count": 5,
   "id": "a34a6534-eabb-42ed-8fca-f413207916cd",
   "metadata": {},
   "outputs": [],
   "source": [
    "A = {1, 2, 3, 4, 5}\n",
    "B = {3, 4, 5, 6, 7}"
   ]
  },
  {
   "cell_type": "code",
   "execution_count": 6,
   "id": "cc9ac535-bd9f-4281-b744-09fe14486fc3",
   "metadata": {},
   "outputs": [
    {
     "name": "stdout",
     "output_type": "stream",
     "text": [
      "União: {1, 2, 3, 4, 5, 6, 7}\n",
      "Interseção: {3, 4, 5}\n",
      "Diferença A - B: {1, 2}\n"
     ]
    }
   ],
   "source": [
    "print(\"União:\", A | B) # A U B\n",
    "print(\"Interseção:\", A & B) # A n B\n",
    "print(\"Diferença A - B:\", A - B) # Elementos em A, mas não em B"
   ]
  },
  {
   "cell_type": "code",
   "execution_count": 7,
   "id": "f9d9b81c-052f-4013-8e71-f5e66a22fbc5",
   "metadata": {},
   "outputs": [
    {
     "name": "stdout",
     "output_type": "stream",
     "text": [
      "Conjunto atualizado: {1, 3, 4, 5, 6, 7, 8, 9}\n",
      "Tamanho do conjunto: 8\n"
     ]
    }
   ],
   "source": [
    "numeros = {1, 2, 3, 4, 5}\n",
    "\n",
    "numeros.add(6)\n",
    "numeros.remove(2) # Remove um elemento existente\n",
    "numeros.update([7, 8, 9]) # Adiciona múltiplos elementos\n",
    "print(\"Conjunto atualizado:\", numeros)\n",
    "print(\"Tamanho do conjunto:\", len(numeros) )\n",
    "\n",
    "# Adiciona um elemento"
   ]
  },
  {
   "cell_type": "code",
   "execution_count": 1,
   "id": "02828f30-7563-4544-bc0c-0e3a97630c9f",
   "metadata": {},
   "outputs": [
    {
     "name": "stdout",
     "output_type": "stream",
     "text": [
      "Idades únicas e válidas: {35, 40, 18, 22, 25, 28, 29, 30}\n",
      "Idade mínima: 18\n",
      "Idade máxima: 40\n",
      "Média de idade: 28.38\n",
      "modificar\n"
     ]
    }
   ],
   "source": [
    "idades = [25, 30, 22, 22, 28, 35, 40, 30, -5, 120, 25, 18, 29]\n",
    "\n",
    "# Remover valores inválidos (idades negativas ou irreais)\n",
    "idades_validas = {i for i in idades if 0 <= i <= 100}\n",
    "\n",
    "# Estatísticas básicas\n",
    "idade_min = min(idades_validas)\n",
    "idade_max = max(idades_validas)\n",
    "media_idades = sum(idades_validas) / len(idades_validas)\n",
    "\n",
    "print(\"Idades únicas e válidas:\", idades_validas)\n",
    "print(\"Idade mínima:\", idade_min)\n",
    "print(\"Idade máxima:\", idade_max)\n",
    "print(\"Média de idade:\", round(media_idades, 2))\n",
    "print(\"modificar\")"
   ]
  },
  {
   "cell_type": "code",
   "execution_count": null,
   "id": "0fc4e644-9c86-4596-91c4-9271962f07e7",
   "metadata": {},
   "outputs": [],
   "source": []
  }
 ],
 "metadata": {
  "kernelspec": {
   "display_name": "Python 3 (ipykernel)",
   "language": "python",
   "name": "python3"
  },
  "language_info": {
   "codemirror_mode": {
    "name": "ipython",
    "version": 3
   },
   "file_extension": ".py",
   "mimetype": "text/x-python",
   "name": "python",
   "nbconvert_exporter": "python",
   "pygments_lexer": "ipython3",
   "version": "3.13.2"
  }
 },
 "nbformat": 4,
 "nbformat_minor": 5
}
