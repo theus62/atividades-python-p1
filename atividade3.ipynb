{
 "cells": [
  {
   "cell_type": "code",
   "execution_count": null,
   "id": "1d9ac123-c980-4977-a0ff-7fa764ccad90",
   "metadata": {},
   "outputs": [],
   "source": [
    "horas = int(input(\"Quantas horas o carro permaneceu no estacionamento? \"))\n",
    "\n",
    "if horas == 1:\n",
    "    preco = 8\n",
    "else:\n",
    "    preco = 8 + (horas - 1) * 5\n",
    "\n",
    "print(\"Valor total a pagar: R$\", preco)"
   ]
  },
  {
   "cell_type": "code",
   "execution_count": null,
   "id": "3fcee4d4-9692-4352-90e8-cc052e14cf12",
   "metadata": {},
   "outputs": [],
   "source": [
    "camisetas = int(input(\"Digite a quantidade de camisetas: \"))\n",
    "custo = 200 + 5 * camisetas\n",
    "print(\"O custo total de produção é: R$\", custo)"
   ]
  },
  {
   "cell_type": "code",
   "execution_count": null,
   "id": "060b8189-12eb-4e90-8dae-251f339f7b58",
   "metadata": {},
   "outputs": [],
   "source": [
    "tempo = int(input(\"Digite o tempo (em minutos) da corrida: \"))\n",
    "calorias = 10 * tempo\n",
    "print(\"Você queimou\", calorias, \"calorias.\")"
   ]
  },
  {
   "cell_type": "code",
   "execution_count": null,
   "id": "cfd0ed66-d0df-44d7-8e10-2ed415e307ee",
   "metadata": {},
   "outputs": [],
   "source": [
    "horas = int(input(\"Por quantas horas a bicicleta foi alugada? \"))\n",
    "\n",
    "if horas == 1:\n",
    "    total = 12\n",
    "else:\n",
    "    total = 12 + (horas - 1) * 7\n",
    "\n",
    "print(\"O valor total do aluguel é: R$\", total)"
   ]
  },
  {
   "cell_type": "code",
   "execution_count": null,
   "id": "169e42bc-57b8-4baf-ad2b-b028a559ce4a",
   "metadata": {},
   "outputs": [],
   "source": [
    "quantidade = int(input(\"Quantos ingressos você quer comprar? \"))\n",
    "if quantidade == 1:\n",
    "    preco_unitario = 20\n",
    "elif quantidade <= 6:\n",
    "    preco_unitario = 20 - 2 * (quantidade - 1)\n",
    "else:\n",
    "    preco_unitario = 10\n",
    "\n",
    "total = preco_unitario * quantidade\n",
    "print(\"Valor total: R$\", total)"
   ]
  },
  {
   "cell_type": "code",
   "execution_count": null,
   "id": "9f618359-80af-4130-bd0d-03f0709d37ed",
   "metadata": {},
   "outputs": [],
   "source": [
    "def valor_lavanderia(pecas):\n",
    "    return 15 + 3.5 * pecas\n",
    "\n",
    "print(\"a)\", valor_lavanderia(4), valor_lavanderia(10), valor_lavanderia(25))  # b)\n",
    "# c) Cliente pagou R$66\n",
    "pecas_lavadas = (66 - 15) / 3.5\n",
    "print(\"c)\", \"Peças lavadas:\", pecas_lavadas)"
   ]
  },
  {
   "cell_type": "code",
   "execution_count": null,
   "id": "1e92c757-0e15-42fb-a2dd-e29af72ea5f7",
   "metadata": {},
   "outputs": [],
   "source": [
    "def valor_internet(gb):\n",
    "    if gb <= 10:\n",
    "        return 30\n",
    "    else:\n",
    "        return 30 + (gb - 10) * 2\n",
    "\n",
    "print(\"a)\", valor_internet(12), valor_internet(20))  # b)\n",
    "# c) Quantos GBs foram consumidos se pagou R$46?\n",
    "gb_usado = (46 - 30) / 2 + 10\n",
    "print(\"c)\", \"Consumo:\", gb_usado, \"GB\")"
   ]
  },
  {
   "cell_type": "code",
   "execution_count": null,
   "id": "2fb44a3e-fde9-430e-8299-680e4adebddb",
   "metadata": {},
   "outputs": [],
   "source": [
    "def lucro_doces(qtd):\n",
    "    return 6 * qtd - 50\n",
    "\n",
    "print(\"a)\", lucro_doces(15), lucro_doces(25), lucro_doces(40))  # c)\n",
    "\n",
    "# b) Para não ter prejuízo: lucro >= 0\n",
    "# 6x - 50 >= 0 => x >= 8.33\n",
    "doces_minimos = 50 / 6\n",
    "print(\"b)\", \"Doces para não ter prejuízo:\", doces_minimos)"
   ]
  },
  {
   "cell_type": "code",
   "execution_count": null,
   "id": "9e4d5812-25db-40e8-ae79-0ac9366ef451",
   "metadata": {},
   "outputs": [],
   "source": [
    "def consumo_agua(t):\n",
    "    if t <= 25:\n",
    "        return 2\n",
    "    else:\n",
    "        return 2 + (t - 25) * 0.4\n",
    "\n",
    "print(\"a)\", \"Função: C(t) = 2 + 0.4*(t - 25)\")\n",
    "print(\"b)\", consumo_agua(30), consumo_agua(33), consumo_agua(35))\n",
    "# c) Qual temperatura para 3,2L?\n",
    "# 2 + 0.4*(t - 25) = 3.2 → t = ?\n",
    "t = (3.2 - 2)/0.4 + 25\n",
    "print(\"c)\", \"Temperatura para 3.2L:\", t, \"°C\")"
   ]
  },
  {
   "cell_type": "code",
   "execution_count": null,
   "id": "e7125199-509d-44b9-a5df-698feb797852",
   "metadata": {},
   "outputs": [],
   "source": [
    "def economia_energia(horas_por_dia):\n",
    "    return 6 * 0.06 * horas_por_dia\n",
    "\n",
    "print(\"a)\", economia_energia(5), economia_energia(12), economia_energia(24))\n",
    "# c) 6h por dia durante 30 dias\n",
    "economia_mensal = economia_energia(6) * 30\n",
    "print(\"c)\", \"Economia em 30 dias:\", economia_mensal, \"kWh\")"
   ]
  }
 ],
 "metadata": {
  "kernelspec": {
   "display_name": "Python 3 (ipykernel)",
   "language": "python",
   "name": "python3"
  },
  "language_info": {
   "codemirror_mode": {
    "name": "ipython",
    "version": 3
   },
   "file_extension": ".py",
   "mimetype": "text/x-python",
   "name": "python",
   "nbconvert_exporter": "python",
   "pygments_lexer": "ipython3",
   "version": "3.13.2"
  }
 },
 "nbformat": 4,
 "nbformat_minor": 5
}
